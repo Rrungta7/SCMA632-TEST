{
 "cells": [
  {
   "cell_type": "code",
   "execution_count": 2,
   "id": "80bc178b",
   "metadata": {},
   "outputs": [],
   "source": [
    "import os\n",
    "import pandas as pd\n",
    "import numpy as np\n",
    "import matplotlib.pyplot as plt\n",
    "import seaborn as sns"
   ]
  },
  {
   "cell_type": "code",
   "execution_count": 4,
   "id": "a3b76ae4",
   "metadata": {},
   "outputs": [],
   "source": [
    "os.chdir(\"C:\\\\Users\\\\RIDDHI\\\\OneDrive\\\\Desktop\\\\Bootcamp\\\\SCMA\\\\SCMA Test\")\n",
    "ipl_bbb = pd.read_csv('IPL_ball_by_ball_updated till 2024.csv',low_memory=False)"
   ]
  },
  {
   "cell_type": "code",
   "execution_count": 6,
   "id": "05bb4714",
   "metadata": {},
   "outputs": [
    {
     "data": {
      "text/plain": [
       "Index(['Match id', 'Date', 'Season', 'Batting team', 'Bowling team',\n",
       "       'Innings No', 'Ball No', 'Bowler', 'Striker', 'Non Striker',\n",
       "       'runs_scored', 'extras', 'type of extras', 'score', 'score/wicket',\n",
       "       'wicket_confirmation', 'wicket_type', 'fielders_involved',\n",
       "       'Player Out'],\n",
       "      dtype='object')"
      ]
     },
     "execution_count": 6,
     "metadata": {},
     "output_type": "execute_result"
    }
   ],
   "source": [
    "ipl_bbb.columns"
   ]
  },
  {
   "cell_type": "code",
   "execution_count": 7,
   "id": "570b275d",
   "metadata": {},
   "outputs": [
    {
     "data": {
      "text/html": [
       "<div>\n",
       "<style scoped>\n",
       "    .dataframe tbody tr th:only-of-type {\n",
       "        vertical-align: middle;\n",
       "    }\n",
       "\n",
       "    .dataframe tbody tr th {\n",
       "        vertical-align: top;\n",
       "    }\n",
       "\n",
       "    .dataframe thead th {\n",
       "        text-align: right;\n",
       "    }\n",
       "</style>\n",
       "<table border=\"1\" class=\"dataframe\">\n",
       "  <thead>\n",
       "    <tr style=\"text-align: right;\">\n",
       "      <th></th>\n",
       "      <th>Match id</th>\n",
       "      <th>year</th>\n",
       "      <th>runs_scored</th>\n",
       "      <th>wicket_confirmation</th>\n",
       "      <th>Bowler</th>\n",
       "      <th>Striker</th>\n",
       "    </tr>\n",
       "  </thead>\n",
       "  <tbody>\n",
       "    <tr>\n",
       "      <th>0</th>\n",
       "      <td>335982</td>\n",
       "      <td>2008</td>\n",
       "      <td>0</td>\n",
       "      <td>0</td>\n",
       "      <td>P Kumar</td>\n",
       "      <td>SC Ganguly</td>\n",
       "    </tr>\n",
       "    <tr>\n",
       "      <th>1</th>\n",
       "      <td>335982</td>\n",
       "      <td>2008</td>\n",
       "      <td>0</td>\n",
       "      <td>0</td>\n",
       "      <td>P Kumar</td>\n",
       "      <td>BB McCullum</td>\n",
       "    </tr>\n",
       "    <tr>\n",
       "      <th>2</th>\n",
       "      <td>335982</td>\n",
       "      <td>2008</td>\n",
       "      <td>0</td>\n",
       "      <td>0</td>\n",
       "      <td>P Kumar</td>\n",
       "      <td>BB McCullum</td>\n",
       "    </tr>\n",
       "    <tr>\n",
       "      <th>3</th>\n",
       "      <td>335982</td>\n",
       "      <td>2008</td>\n",
       "      <td>0</td>\n",
       "      <td>0</td>\n",
       "      <td>P Kumar</td>\n",
       "      <td>BB McCullum</td>\n",
       "    </tr>\n",
       "    <tr>\n",
       "      <th>4</th>\n",
       "      <td>335982</td>\n",
       "      <td>2008</td>\n",
       "      <td>0</td>\n",
       "      <td>0</td>\n",
       "      <td>P Kumar</td>\n",
       "      <td>BB McCullum</td>\n",
       "    </tr>\n",
       "  </tbody>\n",
       "</table>\n",
       "</div>"
      ],
      "text/plain": [
       "   Match id  year  runs_scored  wicket_confirmation   Bowler      Striker\n",
       "0    335982  2008            0                    0  P Kumar   SC Ganguly\n",
       "1    335982  2008            0                    0  P Kumar  BB McCullum\n",
       "2    335982  2008            0                    0  P Kumar  BB McCullum\n",
       "3    335982  2008            0                    0  P Kumar  BB McCullum\n",
       "4    335982  2008            0                    0  P Kumar  BB McCullum"
      ]
     },
     "execution_count": 7,
     "metadata": {},
     "output_type": "execute_result"
    }
   ],
   "source": [
    "ipl_year_id = pd.DataFrame(columns=[\"id\", \"year\"])\n",
    "ipl_year_id[\"id\"] = ipl_bbb[\"Match id\"]\n",
    "ipl_year_id[\"year\"] = pd.to_datetime(ipl_bbb[\"Date\"], dayfirst=True).dt.year\n",
    "\n",
    "\n",
    "#create a copy of ipl_bbbc dataframe\n",
    "ipl_bbbc= ipl_bbb.copy()\n",
    "\n",
    "\n",
    "ipl_bbbc['year'] = pd.to_datetime(ipl_bbb[\"Date\"], dayfirst=True).dt.year\n",
    "\n",
    "\n",
    "ipl_bbbc[[\"Match id\", \"year\", \"runs_scored\",\"wicket_confirmation\",\"Bowler\",'Striker']].head()"
   ]
  },
  {
   "cell_type": "code",
   "execution_count": 9,
   "id": "0427bc86",
   "metadata": {},
   "outputs": [
    {
     "name": "stdout",
     "output_type": "stream",
     "text": [
      "{2013: 8, 2014: 19, 2015: 13, 2016: 19, 2017: 17, 2018: 14, 2019: 13, 2020: 14, 2021: 3, 2022: 3, 2023: 15, 2024: 8}\n"
     ]
    }
   ],
   "source": [
    "# Filter the data for the bowler named 'Sandeep Sharma'\n",
    "Sandeep_Sharma_data = ipl_bbbc[ipl_bbbc[\"Bowler\"] == \"Sandeep Sharma\"]\n",
    "\n",
    "# Group by year and sum the wickets\n",
    "total_wicket_for_player = Sandeep_Sharma_data.groupby('year')[\"wicket_confirmation\"].sum()\n",
    "total_wicket_for_player\n",
    "\n",
    "# Convert to dictionary\n",
    "total_wicket_for_player_dict = total_wicket_for_player.to_dict()\n",
    "print(total_wicket_for_player_dict)"
   ]
  },
  {
   "cell_type": "code",
   "execution_count": 11,
   "id": "813719f0",
   "metadata": {},
   "outputs": [],
   "source": [
    "# Convert dictionary to pandas Series for fitting distribution\n",
    "data1 = pd.Series(total_wicket_for_player_dict)"
   ]
  },
  {
   "cell_type": "code",
   "execution_count": 14,
   "id": "cf20f9a1",
   "metadata": {},
   "outputs": [
    {
     "name": "stdout",
     "output_type": "stream",
     "text": [
      "p value for alpha = 0.23206295530058174\n",
      "p value for beta = 0.8398634844067916\n",
      "p value for betaprime = 0.4315619419619354\n",
      "p value for burr12 = 0.8685690891244013\n",
      "p value for crystalball = 0.4837457465535032\n",
      "p value for dgamma = 0.21249535404805697\n",
      "p value for dweibull = 0.6372195760638604\n",
      "p value for erlang = 0.4237297019263757\n",
      "p value for exponnorm = 0.4837599411660918\n",
      "p value for f = 0.4844568641171857\n",
      "p value for fatiguelife = 0.471335531921644\n",
      "p value for gamma = 0.43553664271811254\n",
      "p value for gengamma = 0.059546646538934045\n",
      "p value for gumbel_l = 0.8794762907119807\n",
      "p value for johnsonsb = 0.005410814382650009\n",
      "p value for kappa4 = 0.17280457566915897\n",
      "p value for lognorm = 0.003791096793123838\n",
      "p value for nct = 0.4788570165582282\n",
      "p value for norm = 0.4837456295454795\n",
      "p value for norminvgauss = 0.9423140097941896\n",
      "p value for powernorm = 0.8210581109157695\n",
      "p value for rice = 0.4253883133377433\n",
      "p value for recipinvgauss = 0.4675789073912685\n",
      "p value for t = 0.48378274795205\n",
      "p value for trapz = 0.8190369740633036\n",
      "p value for truncnorm = 0.48374596741183407\n",
      "\n",
      "Best fitting distribution: norminvgauss\n",
      "Best p value: 0.9423140097941896\n",
      "Parameters for the best fit: (77.40288768129699, -77.29259785298325, 23.91600662863827, 0.6274202359666075)\n"
     ]
    }
   ],
   "source": [
    "import scipy.stats as st\n",
    "def get_best_distribution(data):\n",
    "    dist_names = ['alpha', 'beta', 'betaprime', 'burr12', 'crystalball',\n",
    "                  'dgamma', 'dweibull', 'erlang', 'exponnorm', 'f', 'fatiguelife',\n",
    "                  'gamma', 'gengamma', 'gumbel_l', 'johnsonsb', 'kappa4',\n",
    "                  'lognorm', 'nct', 'norm', 'norminvgauss', 'powernorm', 'rice',\n",
    "                  'recipinvgauss', 't', 'trapz', 'truncnorm']\n",
    "    dist_results = []\n",
    "    params = {}\n",
    "    \n",
    "    # Iterate over each distribution and fit to data\n",
    "    for dist_name in dist_names:\n",
    "        dist = getattr(st, dist_name)\n",
    "        param = dist.fit(data)\n",
    "        params[dist_name] = param\n",
    "        \n",
    "        # Applying the Kolmogorov-Smirnov test\n",
    "        D, p = st.kstest(data, dist_name, args=param)\n",
    "        print(\"p value for \" + dist_name + \" = \" + str(p))\n",
    "        dist_results.append((dist_name, p))\n",
    "    \n",
    "    # Select the best fitted distribution based on p-value\n",
    "    best_dist, best_p = max(dist_results, key=lambda item: item[1])\n",
    "    \n",
    "    # Print results\n",
    "    print(\"\\nBest fitting distribution: \" + str(best_dist))\n",
    "    print(\"Best p value: \" + str(best_p))\n",
    "    print(\"Parameters for the best fit: \" + str(params[best_dist]))\n",
    "    \n",
    "    return best_dist, best_p, params[best_dist]\n",
    "\n",
    "# Call the function with your data\n",
    "import warnings\n",
    "warnings.filterwarnings('ignore')\n",
    "best_dist_name, best_p_val, best_params = get_best_distribution(data1)"
   ]
  }
 ],
 "metadata": {
  "kernelspec": {
   "display_name": "Python 3 (ipykernel)",
   "language": "python",
   "name": "python3"
  },
  "language_info": {
   "codemirror_mode": {
    "name": "ipython",
    "version": 3
   },
   "file_extension": ".py",
   "mimetype": "text/x-python",
   "name": "python",
   "nbconvert_exporter": "python",
   "pygments_lexer": "ipython3",
   "version": "3.11.5"
  }
 },
 "nbformat": 4,
 "nbformat_minor": 5
}
